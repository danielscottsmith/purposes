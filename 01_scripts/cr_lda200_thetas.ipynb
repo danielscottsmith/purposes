{
 "cells": [
  {
   "cell_type": "markdown",
   "metadata": {
    "toc": true
   },
   "source": [
    "<h1>Table of Contents<span class=\"tocSkip\"></span></h1>\n",
    "<div class=\"toc\"><ul class=\"toc-item\"><li><span><a href=\"#Set-cosmetic-paramters.\" data-toc-modified-id=\"Set-cosmetic-paramters.-1\"><span class=\"toc-item-num\">1&nbsp;&nbsp;</span>Set cosmetic paramters.</a></span></li><li><span><a href=\"#Create-streamed-corpus-object.\" data-toc-modified-id=\"Create-streamed-corpus-object.-2\"><span class=\"toc-item-num\">2&nbsp;&nbsp;</span>Create streamed corpus object.</a></span></li><li><span><a href=\"#Run-Mallet-LDA\" data-toc-modified-id=\"Run-Mallet-LDA-3\"><span class=\"toc-item-num\">3&nbsp;&nbsp;</span>Run Mallet LDA</a></span><ul class=\"toc-item\"><li><span><a href=\"#Get-top-terms-per-topic\" data-toc-modified-id=\"Get-top-terms-per-topic-3.1\"><span class=\"toc-item-num\">3.1&nbsp;&nbsp;</span>Get top terms per topic</a></span><ul class=\"toc-item\"><li><span><a href=\"#Visualize\" data-toc-modified-id=\"Visualize-3.1.1\"><span class=\"toc-item-num\">3.1.1&nbsp;&nbsp;</span>Visualize</a></span></li></ul></li><li><span><a href=\"#Get-topic-thetas-and-entropy-for-each-speech\" data-toc-modified-id=\"Get-topic-thetas-and-entropy-for-each-speech-3.2\"><span class=\"toc-item-num\">3.2&nbsp;&nbsp;</span>Get topic thetas and entropy for each speech</a></span></li></ul></li></ul></div>"
   ]
  },
  {
   "cell_type": "markdown",
   "metadata": {},
   "source": [
    "***The notebook implements LDA on the uk parliamentary speech corpus, producing a data frame containing each speech's 200 thetas as well as word clouds to visualize selected topics.***"
   ]
  },
  {
   "cell_type": "markdown",
   "metadata": {},
   "source": [
    "## Set cosmetic paramters."
   ]
  },
  {
   "cell_type": "code",
   "execution_count": 1,
   "metadata": {
    "ExecuteTime": {
     "end_time": "2021-09-17T13:55:02.787139Z",
     "start_time": "2021-09-17T13:55:02.779742Z"
    }
   },
   "outputs": [],
   "source": [
    "%config InlineBackend.figure_format = 'retina'"
   ]
  },
  {
   "cell_type": "code",
   "execution_count": 2,
   "metadata": {
    "ExecuteTime": {
     "end_time": "2021-09-17T13:55:03.078685Z",
     "start_time": "2021-09-17T13:55:03.071512Z"
    }
   },
   "outputs": [
    {
     "data": {
      "text/html": [
       "<style>.container { width:85% !important; }</style>"
      ],
      "text/plain": [
       "<IPython.core.display.HTML object>"
      ]
     },
     "metadata": {},
     "output_type": "display_data"
    }
   ],
   "source": [
    "from IPython.core.display import display, HTML\n",
    "display(HTML(\"<style>.container { width:85% !important; }</style>\"))"
   ]
  },
  {
   "cell_type": "code",
   "execution_count": 3,
   "metadata": {
    "ExecuteTime": {
     "end_time": "2021-09-17T13:55:08.397718Z",
     "start_time": "2021-09-17T13:55:04.387493Z"
    }
   },
   "outputs": [],
   "source": [
    "### Libraries\n",
    "\n",
    "# Standard Libraries \n",
    "import importlib\n",
    "import csv\n",
    "import pandas as pd\n",
    "import numpy as np\n",
    "import os\n",
    "import random\n",
    "import string\n",
    "from collections import defaultdict\n",
    "\n",
    "# Plotting Libraries\n",
    "import matplotlib.pyplot as plt\n",
    "from mpl_toolkits.axes_grid1 import make_axes_locatable\n",
    "from matplotlib import pylab\n",
    "from wordcloud import WordCloud, STOPWORDS\n",
    "import matplotlib.colors as mcolors\n",
    "\n",
    "# Gensim\n",
    "from gensim import corpora, models\n",
    "from gensim.corpora.dictionary import Dictionary\n",
    "from gensim.models.wrappers import LdaMallet\n",
    "\n",
    "# NLTK\n",
    "import nltk\n",
    "from nltk.stem import PorterStemmer\n",
    "from sklearn.feature_extraction.text import CountVectorizer\n",
    "from sklearn.decomposition import PCA\n",
    "from sklearn.preprocessing import StandardScaler\n",
    "\n",
    "# Scientific libraries\n",
    "from numpy import arange,array,ones\n",
    "from scipy import stats\n",
    "\n",
    "# Other\n",
    "import glob\n",
    "import pickle\n",
    "from PIL import Image "
   ]
  },
  {
   "cell_type": "code",
   "execution_count": 4,
   "metadata": {
    "ExecuteTime": {
     "end_time": "2021-09-17T13:55:08.405867Z",
     "start_time": "2021-09-17T13:55:08.400151Z"
    }
   },
   "outputs": [],
   "source": [
    "ktopics = 200"
   ]
  },
  {
   "cell_type": "code",
   "execution_count": 5,
   "metadata": {
    "ExecuteTime": {
     "end_time": "2021-09-17T13:55:10.985420Z",
     "start_time": "2021-09-17T13:55:10.980340Z"
    }
   },
   "outputs": [
    {
     "name": "stdout",
     "output_type": "stream",
     "text": [
      "/Volumes/GoogleDrive/My Drive/02_Stanford/00_Researching/16_SocialScientization/-03_HM/00_replication/\n",
      "/Volumes/GoogleDrive/My Drive/02_Stanford/00_Researching/16_SocialScientization/-03_HM/00_replication/00_data/00_dvs/\n",
      "/Volumes/GoogleDrive/My Drive/02_Stanford/00_Researching/16_SocialScientization/-03_HM/00_replication/00_data/99_lda200/\n",
      "/Volumes/GoogleDrive/My Drive/02_Stanford/00_Researching/16_SocialScientization/-03_HM/00_replication/02_visuals/00_text/\n"
     ]
    }
   ],
   "source": [
    "DIRECTORY = os.path.dirname(os.getcwd()) + '/'\n",
    "print(DIRECTORY)\n",
    "DVS = DIRECTORY + '00_data/00_dvs/'\n",
    "print(DVS)\n",
    "LDA = DIRECTORY + '00_data/99_lda{}/'.format(ktopics)\n",
    "print(LDA)\n",
    "VISUALS = DIRECTORY + '02_visuals/00_text/'\n",
    "print(VISUALS)"
   ]
  },
  {
   "cell_type": "markdown",
   "metadata": {},
   "source": [
    "## Create streamed corpus object."
   ]
  },
  {
   "cell_type": "code",
   "execution_count": 6,
   "metadata": {
    "ExecuteTime": {
     "end_time": "2021-05-17T21:35:30.800612Z",
     "start_time": "2021-05-17T21:35:30.797645Z"
    }
   },
   "outputs": [],
   "source": [
    "class StreamedCorpus(object):\n",
    "    def __iter__(self):\n",
    "        for line in open(DVS+'docs_bigrams.txt'):\n",
    "            yield dictionary.doc2bow(line.split())"
   ]
  },
  {
   "cell_type": "code",
   "execution_count": 7,
   "metadata": {
    "ExecuteTime": {
     "end_time": "2021-05-17T21:35:32.453541Z",
     "start_time": "2021-05-17T21:35:32.451100Z"
    }
   },
   "outputs": [],
   "source": [
    "corpus_stream = StreamedCorpus()"
   ]
  },
  {
   "cell_type": "code",
   "execution_count": 8,
   "metadata": {
    "ExecuteTime": {
     "end_time": "2021-05-17T21:37:07.939743Z",
     "start_time": "2021-05-17T21:35:35.242161Z"
    }
   },
   "outputs": [],
   "source": [
    "dictionary = Dictionary(line.split() for line in open(DVS+'docs_bigrams.txt'))"
   ]
  },
  {
   "cell_type": "code",
   "execution_count": 9,
   "metadata": {
    "ExecuteTime": {
     "end_time": "2021-05-17T21:37:07.943844Z",
     "start_time": "2021-05-17T21:37:07.941510Z"
    }
   },
   "outputs": [
    {
     "name": "stdout",
     "output_type": "stream",
     "text": [
      "Dictionary(549369 unique tokens: ['account', 'acquaint', 'attend', 'chair', 'command']...)\n"
     ]
    }
   ],
   "source": [
    "print(dictionary)"
   ]
  },
  {
   "cell_type": "markdown",
   "metadata": {},
   "source": [
    "## Run Mallet LDA"
   ]
  },
  {
   "cell_type": "code",
   "execution_count": 6,
   "metadata": {
    "ExecuteTime": {
     "end_time": "2021-05-15T17:19:42.052686Z",
     "start_time": "2021-05-15T17:19:42.046628Z"
    }
   },
   "outputs": [],
   "source": [
    "#Mallet\n",
    "os.environ.update({'MALLET_HOME':r'/Applications/mallet-2.0.8/bin/mallet'})\n",
    "mallet_path = r'/Applications/mallet-2.0.8/bin/mallet'"
   ]
  },
  {
   "cell_type": "code",
   "execution_count": 48,
   "metadata": {
    "ExecuteTime": {
     "end_time": "2021-03-11T15:01:40.040920Z",
     "start_time": "2021-03-11T14:33:07.675426Z"
    }
   },
   "outputs": [],
   "source": [
    "ldamallet = models.wrappers.LdaMallet(mallet_path, \n",
    "                                      prefix=LDA,\n",
    "                                      corpus=corpus_stream, \n",
    "                                      num_topics=ktopics, \n",
    "                                      id2word=dictionary, \n",
    "                                      iterations=100, \n",
    "                                      random_seed=777)"
   ]
  },
  {
   "cell_type": "code",
   "execution_count": 49,
   "metadata": {
    "ExecuteTime": {
     "end_time": "2021-03-11T15:03:51.971362Z",
     "start_time": "2021-03-11T15:03:45.868944Z"
    }
   },
   "outputs": [],
   "source": [
    "ldamallet.save(LDA+\"lda.{}\".format(ktopics))"
   ]
  },
  {
   "cell_type": "markdown",
   "metadata": {},
   "source": [
    "### Get top terms per topic"
   ]
  },
  {
   "cell_type": "code",
   "execution_count": 50,
   "metadata": {
    "ExecuteTime": {
     "end_time": "2021-03-11T15:03:54.086301Z",
     "start_time": "2021-03-11T15:03:51.975740Z"
    }
   },
   "outputs": [],
   "source": [
    "with open(DVS+\"topics_terms{}.csv\".format(ktopics), 'w') as f:\n",
    "    csvwriter = csv.writer(f)\n",
    "    for i in range(len(ldamallet.get_topics())):\n",
    "        row = ['topic{}'.format(i)]\n",
    "        row.extend([term[0] for term in ldamallet.show_topic(i, 25)])\n",
    "        csvwriter.writerow(row)"
   ]
  },
  {
   "cell_type": "markdown",
   "metadata": {},
   "source": [
    "#### Visualize"
   ]
  },
  {
   "cell_type": "code",
   "execution_count": 6,
   "metadata": {
    "ExecuteTime": {
     "end_time": "2021-08-31T16:04:53.436979Z",
     "start_time": "2021-08-31T16:04:42.337903Z"
    }
   },
   "outputs": [
    {
     "name": "stderr",
     "output_type": "stream",
     "text": [
      "WARNING:root:random_state not set so using default value\n",
      "WARNING:root:failed to load state from /Users/otto/Google Drive/02_Stanford/00_Researching/16_SocialScientization/-02_AJS/00_replication/00_data/99_lda200/lda.200.state: [Errno 2] No such file or directory: '/Users/otto/Google Drive/02_Stanford/00_Researching/16_SocialScientization/-02_AJS/00_replication/00_data/99_lda200/lda.200.state'\n"
     ]
    }
   ],
   "source": [
    "ldamallet = models.LdaModel.load(LDA+\"lda.{}\".format(ktopics))"
   ]
  },
  {
   "cell_type": "code",
   "execution_count": 7,
   "metadata": {
    "ExecuteTime": {
     "end_time": "2021-08-31T16:04:54.476103Z",
     "start_time": "2021-08-31T16:04:53.438677Z"
    }
   },
   "outputs": [],
   "source": [
    "topics = ldamallet.show_topics(formatted=False, num_topics=ktopics, num_words=50)\n",
    "colors = [color for name, color in mcolors.TABLEAU_COLORS.items()]"
   ]
  },
  {
   "cell_type": "code",
   "execution_count": 11,
   "metadata": {
    "ExecuteTime": {
     "end_time": "2021-08-31T16:25:30.364423Z",
     "start_time": "2021-08-31T16:25:30.359199Z"
    },
    "scrolled": true
   },
   "outputs": [
    {
     "data": {
      "text/plain": [
       "(0,\n",
       " [('establish', 0.08251800136023274),\n",
       "  ('maintain', 0.03187356185466231),\n",
       "  ('secur', 0.025804316984360667),\n",
       "  ('admit', 0.01326310477301325),\n",
       "  ('doctrin', 0.01266319868588817),\n",
       "  ('ground', 0.011331373751518565),\n",
       "  ('union', 0.010706401950446755),\n",
       "  ('danger', 0.010706401950446755),\n",
       "  ('mainten', 0.008651013406814866),\n",
       "  ('support', 0.008525684837081214),\n",
       "  ('civil', 0.008288396078385501),\n",
       "  ('declar', 0.008268343507228116),\n",
       "  ('privileg', 0.007823844846572765),\n",
       "  ('free', 0.007760345037907714),\n",
       "  ('argument', 0.007661753229717242),\n",
       "  ('contend', 0.007494648470072373),\n",
       "  ('exclus', 0.007360964662356478),\n",
       "  ('equal', 0.006649098386269336),\n",
       "  ('claim', 0.006548835530482414),\n",
       "  ('institut', 0.006204599725613985),\n",
       "  ('distinct', 0.00617284982128146),\n",
       "  ('opinion', 0.006116034203002204),\n",
       "  ('proposit', 0.006080942203476781),\n",
       "  ('essenti', 0.006079271155880333),\n",
       "  ('separ', 0.005958955728936027),\n",
       "  ('found', 0.005922192681814156),\n",
       "  ('consist', 0.005669864494750404),\n",
       "  ('preserv', 0.005659838209171712),\n",
       "  ('continu', 0.005592996305313764),\n",
       "  ('bound', 0.004998103360978031),\n",
       "  ('rest', 0.004983063932609993),\n",
       "  ('faith', 0.004861077458069238),\n",
       "  ('interest', 0.004789222411421944),\n",
       "  ('resist', 0.0046271307945664215),\n",
       "  ('assert', 0.004612091366198384),\n",
       "  ('justic', 0.004595380890233897),\n",
       "  ('gener', 0.004506815367622116),\n",
       "  ('condit', 0.004466710225307347),\n",
       "  ('dissent', 0.004089053468509944),\n",
       "  ('expedi', 0.004052290421388072),\n",
       "  ('deni', 0.003947014422811805),\n",
       "  ('constitut', 0.003933646042040216),\n",
       "  ('inconsist', 0.0038901988045325496),\n",
       "  ('admiss', 0.0038751593761645114),\n",
       "  ('contrari', 0.0038484226146213323),\n",
       "  ('concess', 0.003729778235273475),\n",
       "  ('destroi', 0.0037113967117125396),\n",
       "  ('remov', 0.003656252141029733),\n",
       "  ('abandon', 0.003554318237646363),\n",
       "  ('forc', 0.0035459629996641194)])"
      ]
     },
     "execution_count": 11,
     "metadata": {},
     "output_type": "execute_result"
    }
   ],
   "source": [
    "topics[0]"
   ]
  },
  {
   "cell_type": "code",
   "execution_count": 8,
   "metadata": {
    "ExecuteTime": {
     "end_time": "2021-05-20T20:47:47.873407Z",
     "start_time": "2021-05-20T20:47:47.870588Z"
    }
   },
   "outputs": [],
   "source": [
    "def grey_color_func(word, font_size, position, orientation, random_state=None,\n",
    "                    **kwargs):\n",
    "    return \"hsl(0, 0%%, %d%%)\" % random.randint(0, 0)"
   ]
  },
  {
   "cell_type": "code",
   "execution_count": 10,
   "metadata": {
    "ExecuteTime": {
     "end_time": "2021-05-20T20:49:13.038884Z",
     "start_time": "2021-05-20T20:49:13.029834Z"
    }
   },
   "outputs": [],
   "source": [
    "cloud = WordCloud(stopwords=None,\n",
    "                  background_color='white',\n",
    "                  width=2500,\n",
    "                  height=2500,\n",
    "                  max_words=100,\n",
    "                  colormap='tab10',\n",
    "#                   color_func= grey_color_func, \n",
    "                  color_func= lambda *args, **kwargs: colors[color_n],\n",
    "                  prefer_horizontal=1, \n",
    "                 max_font_size=500)"
   ]
  },
  {
   "cell_type": "code",
   "execution_count": null,
   "metadata": {},
   "outputs": [],
   "source": [
    "### Visualize as 10 topics in 1 pdf \n",
    "# for j in range(0,ktopics,10):\n",
    "#     fig, axes = plt.subplots(5, 2, figsize=(30,30*1.2941), sharex=True, sharey=True)\n",
    "#     for i, ax in enumerate(axes.flatten()):\n",
    "#         fig.add_subplot(ax)\n",
    "#         topic_words = dict(topics[i+j][1])\n",
    "#         cloud.generate_from_frequencies(topic_words, max_font_size=300)\n",
    "#         plt.gca().imshow(cloud)\n",
    "#         plt.gca().set_title('Topic ' + str(i+j) + \"\\n\", fontdict=dict(size=50))\n",
    "#         plt.gca().axis('off')\n",
    "\n",
    "#     plt.subplots_adjust(wspace=0, hspace=0)\n",
    "#     plt.axis('off')\n",
    "#     plt.margins(x=0, y=0)\n",
    "#     plt.tight_layout()\n",
    "#     plt.savefig(prefix+\"/{}topic{}.pdf\".format(ktopics, j))\n",
    "#     plt.close('all')\n",
    "    \n",
    "selection = list(range(0, ktopics))\n",
    "selection = [106, 122, 45, 95, 96, 102] \n",
    "color_n = -1\n",
    "for selected in selection: \n",
    "    if color_n == 9:\n",
    "        color_n = -1\n",
    "    color_n += 1\n",
    "    topic_words = dict(topics[selected][1])\n",
    "    cloud.generate_from_frequencies(topic_words)\n",
    "    plt.figure( figsize=(3,3), dpi=1000)\n",
    "    plt.gca().imshow(cloud)\n",
    "#     plt.gca().set_title(str(selected) + \"\\n\", fontdict=dict(size=40))\n",
    "    plt.gca().axis('off')\n",
    "    plt.axis('off')\n",
    "    plt.margins(x=0, y=0)\n",
    "    plt.tight_layout()\n",
    "    plt.savefig(VISUALS+\"topic{}.jpg\".format(selected))\n",
    "    plt.close('all')\n",
    "    fig = Image.open(VISUALS+\"topic{}.jpg\".format(selected))\n",
    "    os.remove(VISUALS+\"topic{}.jpg\".format(selected))\n",
    "    fig.save(VISUALS+\"topic{}.tif\".format(selected))\n",
    "    fig.close()\n",
    "\n",
    "# ## Visualize each separately as jpgs\n",
    "# color_n = -1\n",
    "# for j in range(0,ktopics):\n",
    "#     if color_n == 9:\n",
    "#         color_n = -1\n",
    "#     color_n += 1\n",
    "#     topic_words = dict(topics[j][1])\n",
    "#     cloud.generate_from_frequencies(topic_words, max_font_size=300)\n",
    "#     plt.figure( figsize=(8,6) )\n",
    "#     plt.gca().imshow(cloud)\n",
    "#     plt.gca().set_title('Topic ' + str(j) + \"\\n\", fontdict=dict(size=40))\n",
    "#     plt.gca().axis('off')\n",
    "#     plt.axis('off')\n",
    "#     plt.margins(x=0, y=0)\n",
    "#     plt.tight_layout()\n",
    "#     plt.savefig(LDA+\"01_visuals/\"+\"topic{}.jpg\".format(j))\n",
    "#     plt.close('all')"
   ]
  },
  {
   "cell_type": "markdown",
   "metadata": {},
   "source": [
    "### Get topic thetas and entropy for each speech"
   ]
  },
  {
   "cell_type": "markdown",
   "metadata": {},
   "source": [
    "Get relevant meta-data from raw (parsed) data"
   ]
  },
  {
   "cell_type": "code",
   "execution_count": 53,
   "metadata": {
    "ExecuteTime": {
     "end_time": "2021-03-11T17:36:59.926864Z",
     "start_time": "2021-03-11T17:36:56.042915Z"
    }
   },
   "outputs": [],
   "source": [
    "uk_coded = pd.read_csv(DVS+\"uk_terms.csv\", usecols=[\"date\", \"speaker\", \"year\", \n",
    "                                                \"chamber\", 'ndigits', \"length\"], \n",
    "                       encoding=\"utf-8\")"
   ]
  },
  {
   "cell_type": "code",
   "execution_count": 54,
   "metadata": {
    "ExecuteTime": {
     "end_time": "2021-03-11T17:37:00.107061Z",
     "start_time": "2021-03-11T17:36:59.929224Z"
    }
   },
   "outputs": [
    {
     "data": {
      "text/html": [
       "<div>\n",
       "<style scoped>\n",
       "    .dataframe tbody tr th:only-of-type {\n",
       "        vertical-align: middle;\n",
       "    }\n",
       "\n",
       "    .dataframe tbody tr th {\n",
       "        vertical-align: top;\n",
       "    }\n",
       "\n",
       "    .dataframe thead th {\n",
       "        text-align: right;\n",
       "    }\n",
       "</style>\n",
       "<table border=\"1\" class=\"dataframe\">\n",
       "  <thead>\n",
       "    <tr style=\"text-align: right;\">\n",
       "      <th></th>\n",
       "      <th>date</th>\n",
       "      <th>speaker</th>\n",
       "      <th>chamber</th>\n",
       "      <th>year</th>\n",
       "      <th>ndigits</th>\n",
       "      <th>length</th>\n",
       "    </tr>\n",
       "  </thead>\n",
       "  <tbody>\n",
       "    <tr>\n",
       "      <th>0</th>\n",
       "      <td>1803-11-22</td>\n",
       "      <td>The Speaker</td>\n",
       "      <td>lower</td>\n",
       "      <td>1803</td>\n",
       "      <td>1</td>\n",
       "      <td>22</td>\n",
       "    </tr>\n",
       "    <tr>\n",
       "      <th>1</th>\n",
       "      <td>1803-11-22</td>\n",
       "      <td>Lord Hawkesbury</td>\n",
       "      <td>upper</td>\n",
       "      <td>1803</td>\n",
       "      <td>0</td>\n",
       "      <td>5</td>\n",
       "    </tr>\n",
       "    <tr>\n",
       "      <th>2</th>\n",
       "      <td>1803-11-22</td>\n",
       "      <td>The Lord Chancellor</td>\n",
       "      <td>upper</td>\n",
       "      <td>1803</td>\n",
       "      <td>0</td>\n",
       "      <td>24</td>\n",
       "    </tr>\n",
       "    <tr>\n",
       "      <th>3</th>\n",
       "      <td>1803-11-22</td>\n",
       "      <td>Lord Walsingham</td>\n",
       "      <td>upper</td>\n",
       "      <td>1803</td>\n",
       "      <td>0</td>\n",
       "      <td>67</td>\n",
       "    </tr>\n",
       "    <tr>\n",
       "      <th>4</th>\n",
       "      <td>1803-11-22</td>\n",
       "      <td>The Earl of Limerick</td>\n",
       "      <td>upper</td>\n",
       "      <td>1803</td>\n",
       "      <td>12</td>\n",
       "      <td>698</td>\n",
       "    </tr>\n",
       "  </tbody>\n",
       "</table>\n",
       "</div>"
      ],
      "text/plain": [
       "         date               speaker chamber  year  ndigits  length\n",
       "0  1803-11-22           The Speaker   lower  1803        1      22\n",
       "1  1803-11-22       Lord Hawkesbury   upper  1803        0       5\n",
       "2  1803-11-22   The Lord Chancellor   upper  1803        0      24\n",
       "3  1803-11-22       Lord Walsingham   upper  1803        0      67\n",
       "4  1803-11-22  The Earl of Limerick   upper  1803       12     698"
      ]
     },
     "execution_count": 54,
     "metadata": {},
     "output_type": "execute_result"
    }
   ],
   "source": [
    "uk_coded.head()"
   ]
  },
  {
   "cell_type": "code",
   "execution_count": 55,
   "metadata": {
    "ExecuteTime": {
     "end_time": "2021-03-11T17:46:54.632403Z",
     "start_time": "2021-03-11T17:37:00.108916Z"
    }
   },
   "outputs": [],
   "source": [
    "speeches = ldamallet.load_document_topics()\n",
    "with open(DVS+\"speech_thetas{}.csv\".format(ktopics), 'w') as f: \n",
    "    f_writer = csv.writer(f, delimiter=',', quotechar='\"', quoting=csv.QUOTE_MINIMAL)\n",
    "    i = -1\n",
    "    columns = [\"date\", \"speaker\", \"chamber\", \"year\", 'ndigits', \"length\"]\n",
    "    columns.extend([\"topic\" + str(i) for i in range(0,ktopics)])\n",
    "    columns.append(\"entropy\")\n",
    "    f_writer.writerow(columns)\n",
    "    for speech in speeches:\n",
    "        i += 1\n",
    "        row = []\n",
    "        row.extend(list(uk_coded.loc[i])) # speech meta data\n",
    "        row.extend([round(theta, 5) for theta in dict(speech).values()])\n",
    "        row.append(stats.entropy(list(dict(speech).values())))\n",
    "        f_writer.writerow(row)"
   ]
  }
 ],
 "metadata": {
  "kernelspec": {
   "display_name": "Python 3",
   "language": "python",
   "name": "python3"
  },
  "language_info": {
   "codemirror_mode": {
    "name": "ipython",
    "version": 3
   },
   "file_extension": ".py",
   "mimetype": "text/x-python",
   "name": "python",
   "nbconvert_exporter": "python",
   "pygments_lexer": "ipython3",
   "version": "3.8.5"
  },
  "toc": {
   "base_numbering": 1,
   "nav_menu": {},
   "number_sections": true,
   "sideBar": true,
   "skip_h1_title": false,
   "title_cell": "Table of Contents",
   "title_sidebar": "Contents",
   "toc_cell": true,
   "toc_position": {},
   "toc_section_display": true,
   "toc_window_display": false
  }
 },
 "nbformat": 4,
 "nbformat_minor": 4
}
