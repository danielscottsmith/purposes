{
 "cells": [
  {
   "cell_type": "markdown",
   "metadata": {
    "toc": true
   },
   "source": [
    "<h1>Table of Contents<span class=\"tocSkip\"></span></h1>\n",
    "<div class=\"toc\"><ul class=\"toc-item\"><li><span><a href=\"#Select-variables-for-analysis\" data-toc-modified-id=\"Select-variables-for-analysis-1\"><span class=\"toc-item-num\">1&nbsp;&nbsp;</span>Select variables for analysis</a></span></li><li><span><a href=\"#Limit-data-to-subpopulation-of-states-in-19-C-West\" data-toc-modified-id=\"Limit-data-to-subpopulation-of-states-in-19-C-West-2\"><span class=\"toc-item-num\">2&nbsp;&nbsp;</span>Limit data to subpopulation of states in 19 C West</a></span><ul class=\"toc-item\"><li><span><a href=\"#Drop--variables-missing-all-values-&amp;-change-state-names\" data-toc-modified-id=\"Drop--variables-missing-all-values-&amp;-change-state-names-2.1\"><span class=\"toc-item-num\">2.1&nbsp;&nbsp;</span>Drop  variables missing all values &amp; change state names</a></span></li></ul></li><li><span><a href=\"#Export-data-to-Stata\" data-toc-modified-id=\"Export-data-to-Stata-3\"><span class=\"toc-item-num\">3&nbsp;&nbsp;</span>Export data to Stata</a></span></li></ul></div>"
   ]
  },
  {
   "cell_type": "markdown",
   "metadata": {},
   "source": [
    "***This notebook takes the big V-Dem dataset (too big for Stata IC) and reduces it to a subset of relevant data, filterned by world region and selected variables on state structuration.***"
   ]
  },
  {
   "cell_type": "code",
   "execution_count": null,
   "metadata": {
    "ExecuteTime": {
     "end_time": "2022-07-09T21:28:06.157759Z",
     "start_time": "2022-07-09T21:28:05.193452Z"
    }
   },
   "outputs": [],
   "source": [
    "import pandas as pd\n",
    "import os"
   ]
  },
  {
   "cell_type": "code",
   "execution_count": null,
   "metadata": {
    "ExecuteTime": {
     "end_time": "2022-07-09T21:28:06.162269Z",
     "start_time": "2022-07-09T21:28:06.159606Z"
    }
   },
   "outputs": [],
   "source": [
    "DIRECTORY = os.path.dirname(os.getcwd()) + '/'\n",
    "print(DIRECTORY)\n",
    "DATA = DIRECTORY + '00_data/'\n",
    "print(DATA)"
   ]
  },
  {
   "cell_type": "markdown",
   "metadata": {},
   "source": [
    "## Select variables for analysis"
   ]
  },
  {
   "cell_type": "code",
   "execution_count": null,
   "metadata": {
    "ExecuteTime": {
     "end_time": "2022-07-09T21:28:06.168641Z",
     "start_time": "2022-07-09T21:28:06.163566Z"
    }
   },
   "outputs": [],
   "source": [
    "variables = \"\"\"year country_name histname e_regiongeo v2exnamhog v2extithog v2lpname \n",
    "e_gdp\n",
    "e_pelifeex e_pefeliex e_pematmor e_peinfmor\n",
    "e_miurbani e_miurbpop e_mipopula \n",
    "v2x_suffr v2x_polyarchy v2x_partipdem v2x_libdem v2x_delibdem v2x_egaldem v2dlencmps\n",
    "v2xel_frefair e_polity2 v2xnp_client v2x_partip v2xeg_eqprotec\n",
    "v2peprisch e_civil_war e_miinteco e_miinterc e_pt_coup \n",
    "v3stnatant v3stcitlaw v3stnatbank v3stflag \n",
    "v3stcensus v3ststatag v3ststybcov v3ststybpub  \n",
    "v3ststeecap v2canuni\"\"\"\n",
    "variables = variables.split()"
   ]
  },
  {
   "cell_type": "code",
   "execution_count": null,
   "metadata": {
    "ExecuteTime": {
     "end_time": "2022-07-09T21:28:08.352763Z",
     "start_time": "2022-07-09T21:28:06.170651Z"
    },
    "scrolled": true
   },
   "outputs": [],
   "source": [
    "vdem = pd.read_csv(DATA+'01_ivs/' + \"VDEM-v12.csv\", usecols=variables)"
   ]
  },
  {
   "cell_type": "code",
   "execution_count": null,
   "metadata": {
    "ExecuteTime": {
     "end_time": "2022-07-09T21:28:08.361100Z",
     "start_time": "2022-07-09T21:28:08.354218Z"
    }
   },
   "outputs": [],
   "source": [
    "vdem.shape"
   ]
  },
  {
   "cell_type": "markdown",
   "metadata": {},
   "source": [
    "## Limit data to subpopulation of states in 19 C West"
   ]
  },
  {
   "cell_type": "code",
   "execution_count": null,
   "metadata": {
    "ExecuteTime": {
     "end_time": "2022-07-09T21:28:08.368944Z",
     "start_time": "2022-07-09T21:28:08.362403Z"
    }
   },
   "outputs": [],
   "source": [
    "west = vdem.loc[(vdem['e_regiongeo'] < 5) | (vdem['e_regiongeo'] == 16)]"
   ]
  },
  {
   "cell_type": "code",
   "execution_count": null,
   "metadata": {
    "ExecuteTime": {
     "end_time": "2022-07-09T21:28:08.375430Z",
     "start_time": "2022-07-09T21:28:08.370433Z"
    }
   },
   "outputs": [],
   "source": [
    "west = west.loc[(west['year'] < 1915) & (west['year'] > 1799)]\n",
    "# west = west.loc[(west['year'] < 2020) & (west['year'] > 1799)]"
   ]
  },
  {
   "cell_type": "code",
   "execution_count": null,
   "metadata": {
    "ExecuteTime": {
     "end_time": "2022-07-09T21:28:08.379850Z",
     "start_time": "2022-07-09T21:28:08.376933Z"
    }
   },
   "outputs": [],
   "source": [
    "west.shape"
   ]
  },
  {
   "cell_type": "markdown",
   "metadata": {},
   "source": [
    "### Drop  variables missing all values & change state names"
   ]
  },
  {
   "cell_type": "code",
   "execution_count": null,
   "metadata": {
    "ExecuteTime": {
     "end_time": "2022-07-09T21:28:08.386671Z",
     "start_time": "2022-07-09T21:28:08.381234Z"
    }
   },
   "outputs": [],
   "source": [
    "west.dropna(how='all', axis=1, inplace=True)"
   ]
  },
  {
   "cell_type": "code",
   "execution_count": null,
   "metadata": {
    "ExecuteTime": {
     "end_time": "2022-07-09T21:28:08.395538Z",
     "start_time": "2022-07-09T21:28:08.389765Z"
    }
   },
   "outputs": [],
   "source": [
    "west = west.dropna(how='all')"
   ]
  },
  {
   "cell_type": "code",
   "execution_count": null,
   "metadata": {
    "ExecuteTime": {
     "end_time": "2022-07-09T21:28:08.399835Z",
     "start_time": "2022-07-09T21:28:08.396906Z"
    }
   },
   "outputs": [],
   "source": [
    "west.shape"
   ]
  },
  {
   "cell_type": "code",
   "execution_count": null,
   "metadata": {
    "ExecuteTime": {
     "end_time": "2022-07-09T21:28:08.404936Z",
     "start_time": "2022-07-09T21:28:08.401172Z"
    }
   },
   "outputs": [],
   "source": [
    "west.replace(\"Würtemberg\", \"Wuertemberg\", inplace=True)"
   ]
  },
  {
   "cell_type": "code",
   "execution_count": null,
   "metadata": {
    "ExecuteTime": {
     "end_time": "2022-07-09T21:28:08.426584Z",
     "start_time": "2022-07-09T21:28:08.406798Z"
    }
   },
   "outputs": [],
   "source": [
    "west.head()"
   ]
  },
  {
   "cell_type": "markdown",
   "metadata": {},
   "source": [
    "## Export data to Stata"
   ]
  },
  {
   "cell_type": "code",
   "execution_count": null,
   "metadata": {
    "ExecuteTime": {
     "end_time": "2022-07-09T21:28:08.499326Z",
     "start_time": "2022-07-09T21:28:08.428198Z"
    }
   },
   "outputs": [],
   "source": [
    "west.to_stata(DATA+'01_ivs/' + \"west_vdem10.dta\", version=118)"
   ]
  },
  {
   "cell_type": "code",
   "execution_count": null,
   "metadata": {
    "ExecuteTime": {
     "end_time": "2022-07-11T22:28:17.955427Z",
     "start_time": "2022-07-11T22:28:17.951114Z"
    }
   },
   "outputs": [],
   "source": [
    "for i, country_df in west.groupby(\"country_name\"):\n",
    "    print(country_df[\"country_name\"])\n",
    "    break"
   ]
  },
  {
   "cell_type": "code",
   "execution_count": null,
   "metadata": {
    "ExecuteTime": {
     "end_time": "2022-07-11T21:01:36.620499Z",
     "start_time": "2022-07-11T21:01:36.617144Z"
    }
   },
   "outputs": [],
   "source": [
    "l = [1,2,3]\n",
    "\"{l}\""
   ]
  },
  {
   "cell_type": "code",
   "execution_count": null,
   "metadata": {},
   "outputs": [],
   "source": []
  }
 ],
 "metadata": {
  "kernelspec": {
   "display_name": "Python 3 (ipykernel)",
   "language": "python",
   "name": "python3"
  },
  "language_info": {
   "codemirror_mode": {
    "name": "ipython",
    "version": 3
   },
   "file_extension": ".py",
   "mimetype": "text/x-python",
   "name": "python",
   "nbconvert_exporter": "python",
   "pygments_lexer": "ipython3",
   "version": "3.10.4"
  },
  "toc": {
   "base_numbering": 1,
   "nav_menu": {},
   "number_sections": true,
   "sideBar": true,
   "skip_h1_title": false,
   "title_cell": "Table of Contents",
   "title_sidebar": "Contents",
   "toc_cell": true,
   "toc_position": {},
   "toc_section_display": true,
   "toc_window_display": false
  },
  "toc-autonumbering": false,
  "toc-showcode": false,
  "toc-showmarkdowntxt": false
 },
 "nbformat": 4,
 "nbformat_minor": 4
}
