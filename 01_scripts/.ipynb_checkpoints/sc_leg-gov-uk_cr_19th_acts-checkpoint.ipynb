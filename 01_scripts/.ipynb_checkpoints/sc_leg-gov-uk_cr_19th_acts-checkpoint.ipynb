{
 "cells": [
  {
   "cell_type": "markdown",
   "metadata": {
    "toc": true
   },
   "source": [
    "<h1>Table of Contents<span class=\"tocSkip\"></span></h1>\n",
    "<div class=\"toc\"><ul class=\"toc-item\"><li><span><a href=\"#Import-libraries\" data-toc-modified-id=\"Import-libraries-1\"><span class=\"toc-item-num\">1&nbsp;&nbsp;</span>Import libraries</a></span></li></ul></div>"
   ]
  },
  {
   "cell_type": "markdown",
   "metadata": {},
   "source": [
    "This notebook creates a CSV of all Acts of parliament, scraped from the official site of the UK Legislature. This is an incomplete list, as the website only publishes acts if they've been fully digitized and can be linked to for viewing. "
   ]
  },
  {
   "cell_type": "markdown",
   "metadata": {},
   "source": [
    "## Import libraries"
   ]
  },
  {
   "cell_type": "code",
   "execution_count": 1,
   "metadata": {
    "ExecuteTime": {
     "end_time": "2021-09-17T13:44:52.566297Z",
     "start_time": "2021-09-17T13:44:52.240650Z"
    }
   },
   "outputs": [],
   "source": [
    "from bs4 import BeautifulSoup\n",
    "from urllib.request import urlopen\n",
    "import csv"
   ]
  },
  {
   "cell_type": "code",
   "execution_count": 2,
   "metadata": {
    "ExecuteTime": {
     "end_time": "2021-09-17T13:45:22.748891Z",
     "start_time": "2021-09-17T13:44:53.553753Z"
    }
   },
   "outputs": [],
   "source": [
    "page_contents = []\n",
    "host = \"https://www.legislation.gov.uk/\"\n",
    "for page in range(1,49):\n",
    "    url = \"https://www.legislation.gov.uk/1803-1914?page={}\".format(page)\n",
    "    site_reponse = urlopen(url)\n",
    "    content = site_reponse.read()\n",
    "    page_contents.append(content)"
   ]
  },
  {
   "cell_type": "code",
   "execution_count": 3,
   "metadata": {
    "ExecuteTime": {
     "end_time": "2021-09-17T13:45:36.732795Z",
     "start_time": "2021-09-17T13:45:35.862733Z"
    }
   },
   "outputs": [],
   "source": [
    "with open(\"19c_acts.csv\", 'w') as f:\n",
    "    f_writer = csv.writer(f, delimiter=',', quotechar='\"', quoting=csv.QUOTE_MINIMAL)\n",
    "    variables = ['year', 'title', 'link']\n",
    "    f_writer.writerow(variables)\n",
    "    for content in page_contents:\n",
    "        soup = BeautifulSoup(content, 'lxml')\n",
    "        table = soup.tbody\n",
    "        all_as = table.find_all('a')\n",
    "        for i in range(0, len(all_as), 2): \n",
    "            year = all_as[i+1].get_text()[:4]\n",
    "            title = all_as[i].get_text()\n",
    "            link = host+all_as[i]['href']\n",
    "            f_writer.writerow([year, title, link])"
   ]
  },
  {
   "cell_type": "code",
   "execution_count": null,
   "metadata": {},
   "outputs": [],
   "source": []
  }
 ],
 "metadata": {
  "kernelspec": {
   "display_name": "Python 3",
   "language": "python",
   "name": "python3"
  },
  "language_info": {
   "codemirror_mode": {
    "name": "ipython",
    "version": 3
   },
   "file_extension": ".py",
   "mimetype": "text/x-python",
   "name": "python",
   "nbconvert_exporter": "python",
   "pygments_lexer": "ipython3",
   "version": "3.8.5"
  },
  "toc": {
   "base_numbering": 1,
   "nav_menu": {
    "height": "120px",
    "width": "160px"
   },
   "number_sections": true,
   "sideBar": false,
   "skip_h1_title": false,
   "title_cell": "Table of Contents",
   "title_sidebar": "Contents",
   "toc_cell": true,
   "toc_position": {
    "height": "215.2px",
    "left": "1344.2px",
    "top": "209.6px",
    "width": "229.988px"
   },
   "toc_section_display": true,
   "toc_window_display": false
  }
 },
 "nbformat": 4,
 "nbformat_minor": 4
}
