{
 "cells": [
  {
   "cell_type": "markdown",
   "metadata": {
    "toc": true
   },
   "source": [
    "<h1>Table of Contents<span class=\"tocSkip\"></span></h1>\n",
    "<div class=\"toc\"><ul class=\"toc-item\"><li><span><a href=\"#Read-in-data\" data-toc-modified-id=\"Read-in-data-1\"><span class=\"toc-item-num\">1&nbsp;&nbsp;</span>Read in data</a></span></li><li><span><a href=\"#Count-theorists-in-each-speech\" data-toc-modified-id=\"Count-theorists-in-each-speech-2\"><span class=\"toc-item-num\">2&nbsp;&nbsp;</span>Count theorists in each speech</a></span></li><li><span><a href=\"#Create-annual-time-series\" data-toc-modified-id=\"Create-annual-time-series-3\"><span class=\"toc-item-num\">3&nbsp;&nbsp;</span>Create annual time series</a></span></li></ul></div>"
   ]
  },
  {
   "cell_type": "markdown",
   "metadata": {},
   "source": [
    "***This notebook takes the preprocessed text data of the UK parliamentary speeches and computes the frequency that the names of several social theorists appears, returning several annual time series for each theorist.***"
   ]
  },
  {
   "cell_type": "code",
   "execution_count": 1,
   "metadata": {
    "ExecuteTime": {
     "end_time": "2021-09-20T14:27:12.987265Z",
     "start_time": "2021-09-20T14:27:12.384331Z"
    }
   },
   "outputs": [],
   "source": [
    "import pandas as pd\n",
    "import os"
   ]
  },
  {
   "cell_type": "code",
   "execution_count": 2,
   "metadata": {
    "ExecuteTime": {
     "end_time": "2021-09-20T14:27:12.996600Z",
     "start_time": "2021-09-20T14:27:12.989207Z"
    }
   },
   "outputs": [
    {
     "data": {
      "text/plain": [
       "'/Volumes/GoogleDrive/My Drive/02_Stanford/00_Researching/16_SocialScientization/-03_HM/00_replication/01_scripts'"
      ]
     },
     "execution_count": 2,
     "metadata": {},
     "output_type": "execute_result"
    }
   ],
   "source": [
    "os.getcwd()"
   ]
  },
  {
   "cell_type": "code",
   "execution_count": 7,
   "metadata": {
    "ExecuteTime": {
     "end_time": "2021-09-20T14:28:24.911154Z",
     "start_time": "2021-09-20T14:28:24.906457Z"
    }
   },
   "outputs": [],
   "source": [
    "DIR = os.path.dirname(os.getcwd()) + \"/\"\n",
    "DVS = DIR + \"00_data/00_dvs/\"\n",
    "IVS = DIR + \"00_data/01_ivs/\""
   ]
  },
  {
   "cell_type": "markdown",
   "metadata": {},
   "source": [
    "## Read in data"
   ]
  },
  {
   "cell_type": "code",
   "execution_count": 6,
   "metadata": {
    "ExecuteTime": {
     "end_time": "2021-09-20T14:27:47.113822Z",
     "start_time": "2021-09-20T14:27:36.565031Z"
    }
   },
   "outputs": [],
   "source": [
    "uk = pd.read_csv(DATA+\"uk_terms.csv\")"
   ]
  },
  {
   "cell_type": "code",
   "execution_count": 4,
   "metadata": {
    "ExecuteTime": {
     "end_time": "2021-08-30T21:58:40.902099Z",
     "start_time": "2021-08-30T21:58:40.878620Z"
    }
   },
   "outputs": [
    {
     "data": {
      "text/html": [
       "<div>\n",
       "<style scoped>\n",
       "    .dataframe tbody tr th:only-of-type {\n",
       "        vertical-align: middle;\n",
       "    }\n",
       "\n",
       "    .dataframe tbody tr th {\n",
       "        vertical-align: top;\n",
       "    }\n",
       "\n",
       "    .dataframe thead th {\n",
       "        text-align: right;\n",
       "    }\n",
       "</style>\n",
       "<table border=\"1\" class=\"dataframe\">\n",
       "  <thead>\n",
       "    <tr style=\"text-align: right;\">\n",
       "      <th></th>\n",
       "      <th>date</th>\n",
       "      <th>speaker</th>\n",
       "      <th>speech</th>\n",
       "      <th>chamber</th>\n",
       "      <th>year</th>\n",
       "      <th>ndigits</th>\n",
       "      <th>length</th>\n",
       "    </tr>\n",
       "  </thead>\n",
       "  <tbody>\n",
       "    <tr>\n",
       "      <th>0</th>\n",
       "      <td>1803-11-22</td>\n",
       "      <td>The Speaker</td>\n",
       "      <td>acquaint obedi command attend peer hear gracio...</td>\n",
       "      <td>lower</td>\n",
       "      <td>1803</td>\n",
       "      <td>1</td>\n",
       "      <td>22</td>\n",
       "    </tr>\n",
       "    <tr>\n",
       "      <th>1</th>\n",
       "      <td>1803-11-22</td>\n",
       "      <td>Lord Hawkesbury</td>\n",
       "      <td>move walsingham appoint chairman privileg</td>\n",
       "      <td>upper</td>\n",
       "      <td>1803</td>\n",
       "      <td>0</td>\n",
       "      <td>5</td>\n",
       "    </tr>\n",
       "    <tr>\n",
       "      <th>2</th>\n",
       "      <td>1803-11-22</td>\n",
       "      <td>The Lord Chancellor</td>\n",
       "      <td>second took opportun pai handsom compliment ta...</td>\n",
       "      <td>upper</td>\n",
       "      <td>1803</td>\n",
       "      <td>0</td>\n",
       "      <td>24</td>\n",
       "    </tr>\n",
       "    <tr>\n",
       "      <th>3</th>\n",
       "      <td>1803-11-22</td>\n",
       "      <td>Lord Walsingham</td>\n",
       "      <td>rose observ habit trespass attent take valuabl...</td>\n",
       "      <td>upper</td>\n",
       "      <td>1803</td>\n",
       "      <td>0</td>\n",
       "      <td>67</td>\n",
       "    </tr>\n",
       "    <tr>\n",
       "      <th>4</th>\n",
       "      <td>1803-11-22</td>\n",
       "      <td>The Earl of Limerick</td>\n",
       "      <td>rose second address fulli coincid sentiment ex...</td>\n",
       "      <td>upper</td>\n",
       "      <td>1803</td>\n",
       "      <td>12</td>\n",
       "      <td>698</td>\n",
       "    </tr>\n",
       "  </tbody>\n",
       "</table>\n",
       "</div>"
      ],
      "text/plain": [
       "         date               speaker  \\\n",
       "0  1803-11-22           The Speaker   \n",
       "1  1803-11-22       Lord Hawkesbury   \n",
       "2  1803-11-22   The Lord Chancellor   \n",
       "3  1803-11-22       Lord Walsingham   \n",
       "4  1803-11-22  The Earl of Limerick   \n",
       "\n",
       "                                              speech chamber  year  ndigits  \\\n",
       "0  acquaint obedi command attend peer hear gracio...   lower  1803        1   \n",
       "1          move walsingham appoint chairman privileg   upper  1803        0   \n",
       "2  second took opportun pai handsom compliment ta...   upper  1803        0   \n",
       "3  rose observ habit trespass attent take valuabl...   upper  1803        0   \n",
       "4  rose second address fulli coincid sentiment ex...   upper  1803       12   \n",
       "\n",
       "   length  \n",
       "0      22  \n",
       "1       5  \n",
       "2      24  \n",
       "3      67  \n",
       "4     698  "
      ]
     },
     "execution_count": 4,
     "metadata": {},
     "output_type": "execute_result"
    }
   ],
   "source": [
    "uk.head()"
   ]
  },
  {
   "cell_type": "code",
   "execution_count": 6,
   "metadata": {
    "ExecuteTime": {
     "end_time": "2021-08-30T21:58:56.839627Z",
     "start_time": "2021-08-30T21:58:56.835778Z"
    }
   },
   "outputs": [
    {
     "data": {
      "text/plain": [
       "(1097460, 7)"
      ]
     },
     "execution_count": 6,
     "metadata": {},
     "output_type": "execute_result"
    }
   ],
   "source": [
    "uk.shape"
   ]
  },
  {
   "cell_type": "markdown",
   "metadata": {},
   "source": [
    "## Count theorists in each speech"
   ]
  },
  {
   "cell_type": "code",
   "execution_count": 46,
   "metadata": {
    "ExecuteTime": {
     "end_time": "2021-08-30T22:27:57.730823Z",
     "start_time": "2021-08-30T22:27:57.726922Z"
    }
   },
   "outputs": [],
   "source": [
    "theorists = uk[['year']]"
   ]
  },
  {
   "cell_type": "code",
   "execution_count": 47,
   "metadata": {
    "ExecuteTime": {
     "end_time": "2021-08-30T22:27:59.852556Z",
     "start_time": "2021-08-30T22:27:58.129889Z"
    }
   },
   "outputs": [
    {
     "name": "stderr",
     "output_type": "stream",
     "text": [
      "<ipython-input-47-d9b79c5c87d8>:1: SettingWithCopyWarning: \n",
      "A value is trying to be set on a copy of a slice from a DataFrame.\n",
      "Try using .loc[row_indexer,col_indexer] = value instead\n",
      "\n",
      "See the caveats in the documentation: https://pandas.pydata.org/pandas-docs/stable/user_guide/indexing.html#returning-a-view-versus-a-copy\n",
      "  theorists['smith'] = uk['speech'].apply(lambda x: len(re.findall(\"(adam\\ssmith)\", x)))\n"
     ]
    }
   ],
   "source": [
    "theorists['smith'] = uk['speech'].apply(lambda x: len(re.findall(\"(adam\\ssmith)\", x)))"
   ]
  },
  {
   "cell_type": "code",
   "execution_count": 49,
   "metadata": {
    "ExecuteTime": {
     "end_time": "2021-08-30T22:28:06.458003Z",
     "start_time": "2021-08-30T22:28:06.377171Z"
    }
   },
   "outputs": [
    {
     "data": {
      "text/plain": [
       "835"
      ]
     },
     "execution_count": 49,
     "metadata": {},
     "output_type": "execute_result"
    }
   ],
   "source": [
    "sum(theorists['smith'])"
   ]
  },
  {
   "cell_type": "code",
   "execution_count": 50,
   "metadata": {
    "ExecuteTime": {
     "end_time": "2021-08-30T22:28:10.332760Z",
     "start_time": "2021-08-30T22:28:08.772095Z"
    }
   },
   "outputs": [
    {
     "name": "stderr",
     "output_type": "stream",
     "text": [
      "<ipython-input-50-cb634dc70fa1>:1: SettingWithCopyWarning: \n",
      "A value is trying to be set on a copy of a slice from a DataFrame.\n",
      "Try using .loc[row_indexer,col_indexer] = value instead\n",
      "\n",
      "See the caveats in the documentation: https://pandas.pydata.org/pandas-docs/stable/user_guide/indexing.html#returning-a-view-versus-a-copy\n",
      "  theorists['malthus'] = uk['speech'].apply(lambda x: len(re.findall(\"malthus\", x)))\n"
     ]
    }
   ],
   "source": [
    "theorists['malthus'] = uk['speech'].apply(lambda x: len(re.findall(\"malthus\", x)))"
   ]
  },
  {
   "cell_type": "code",
   "execution_count": 51,
   "metadata": {
    "ExecuteTime": {
     "end_time": "2021-08-30T22:28:12.151070Z",
     "start_time": "2021-08-30T22:28:10.334445Z"
    }
   },
   "outputs": [
    {
     "name": "stderr",
     "output_type": "stream",
     "text": [
      "<ipython-input-51-f538df079d5b>:1: SettingWithCopyWarning: \n",
      "A value is trying to be set on a copy of a slice from a DataFrame.\n",
      "Try using .loc[row_indexer,col_indexer] = value instead\n",
      "\n",
      "See the caveats in the documentation: https://pandas.pydata.org/pandas-docs/stable/user_guide/indexing.html#returning-a-view-versus-a-copy\n",
      "  theorists['owen'] = uk['speech'].apply(lambda x: len(re.findall(\"(robert\\sowen)\", x)))\n"
     ]
    }
   ],
   "source": [
    "theorists['owen'] = uk['speech'].apply(lambda x: len(re.findall(\"(robert\\sowen)\", x)))"
   ]
  },
  {
   "cell_type": "code",
   "execution_count": 52,
   "metadata": {
    "ExecuteTime": {
     "end_time": "2021-08-30T22:28:13.636660Z",
     "start_time": "2021-08-30T22:28:12.153201Z"
    }
   },
   "outputs": [
    {
     "name": "stderr",
     "output_type": "stream",
     "text": [
      "<ipython-input-52-6db999716c75>:1: SettingWithCopyWarning: \n",
      "A value is trying to be set on a copy of a slice from a DataFrame.\n",
      "Try using .loc[row_indexer,col_indexer] = value instead\n",
      "\n",
      "See the caveats in the documentation: https://pandas.pydata.org/pandas-docs/stable/user_guide/indexing.html#returning-a-view-versus-a-copy\n",
      "  theorists['spencer'] = uk['speech'].apply(lambda x: len(re.findall(\"(herbert\\sspencer)\", x)))\n"
     ]
    }
   ],
   "source": [
    "theorists['spencer'] = uk['speech'].apply(lambda x: len(re.findall(\"(herbert\\sspencer)\", x)))"
   ]
  },
  {
   "cell_type": "code",
   "execution_count": 53,
   "metadata": {
    "ExecuteTime": {
     "end_time": "2021-08-30T22:28:15.103865Z",
     "start_time": "2021-08-30T22:28:13.638678Z"
    }
   },
   "outputs": [
    {
     "name": "stderr",
     "output_type": "stream",
     "text": [
      "<ipython-input-53-c0c64bcf44c8>:1: SettingWithCopyWarning: \n",
      "A value is trying to be set on a copy of a slice from a DataFrame.\n",
      "Try using .loc[row_indexer,col_indexer] = value instead\n",
      "\n",
      "See the caveats in the documentation: https://pandas.pydata.org/pandas-docs/stable/user_guide/indexing.html#returning-a-view-versus-a-copy\n",
      "  theorists['galton'] = uk['speech'].apply(lambda x: len(re.findall(\"(galton)\", x)))\n"
     ]
    }
   ],
   "source": [
    "theorists['galton'] = uk['speech'].apply(lambda x: len(re.findall(\"(galton)\", x)))"
   ]
  },
  {
   "cell_type": "code",
   "execution_count": 54,
   "metadata": {
    "ExecuteTime": {
     "end_time": "2021-08-30T22:28:16.690706Z",
     "start_time": "2021-08-30T22:28:15.105428Z"
    }
   },
   "outputs": [],
   "source": [
    "theorists['pearson'] = uk['speech'].apply(lambda x: len(re.findall(\"(pearson)\", x)))"
   ]
  },
  {
   "cell_type": "code",
   "execution_count": 55,
   "metadata": {
    "ExecuteTime": {
     "end_time": "2021-08-30T22:28:18.114823Z",
     "start_time": "2021-08-30T22:28:16.692403Z"
    }
   },
   "outputs": [],
   "source": [
    "theorists['bentham'] = uk['speech'].apply(lambda x: len(re.findall(\"(bentham)\", x)))"
   ]
  },
  {
   "cell_type": "code",
   "execution_count": 56,
   "metadata": {
    "ExecuteTime": {
     "end_time": "2021-08-30T22:28:18.125930Z",
     "start_time": "2021-08-30T22:28:18.116367Z"
    }
   },
   "outputs": [
    {
     "data": {
      "text/html": [
       "<div>\n",
       "<style scoped>\n",
       "    .dataframe tbody tr th:only-of-type {\n",
       "        vertical-align: middle;\n",
       "    }\n",
       "\n",
       "    .dataframe tbody tr th {\n",
       "        vertical-align: top;\n",
       "    }\n",
       "\n",
       "    .dataframe thead th {\n",
       "        text-align: right;\n",
       "    }\n",
       "</style>\n",
       "<table border=\"1\" class=\"dataframe\">\n",
       "  <thead>\n",
       "    <tr style=\"text-align: right;\">\n",
       "      <th></th>\n",
       "      <th>year</th>\n",
       "      <th>smith</th>\n",
       "      <th>malthus</th>\n",
       "      <th>owen</th>\n",
       "      <th>spencer</th>\n",
       "      <th>galton</th>\n",
       "      <th>pearson</th>\n",
       "      <th>bentham</th>\n",
       "    </tr>\n",
       "  </thead>\n",
       "  <tbody>\n",
       "    <tr>\n",
       "      <th>0</th>\n",
       "      <td>1803</td>\n",
       "      <td>0</td>\n",
       "      <td>0</td>\n",
       "      <td>0</td>\n",
       "      <td>0</td>\n",
       "      <td>0</td>\n",
       "      <td>0</td>\n",
       "      <td>0</td>\n",
       "    </tr>\n",
       "    <tr>\n",
       "      <th>1</th>\n",
       "      <td>1803</td>\n",
       "      <td>0</td>\n",
       "      <td>0</td>\n",
       "      <td>0</td>\n",
       "      <td>0</td>\n",
       "      <td>0</td>\n",
       "      <td>0</td>\n",
       "      <td>0</td>\n",
       "    </tr>\n",
       "    <tr>\n",
       "      <th>2</th>\n",
       "      <td>1803</td>\n",
       "      <td>0</td>\n",
       "      <td>0</td>\n",
       "      <td>0</td>\n",
       "      <td>0</td>\n",
       "      <td>0</td>\n",
       "      <td>0</td>\n",
       "      <td>0</td>\n",
       "    </tr>\n",
       "    <tr>\n",
       "      <th>3</th>\n",
       "      <td>1803</td>\n",
       "      <td>0</td>\n",
       "      <td>0</td>\n",
       "      <td>0</td>\n",
       "      <td>0</td>\n",
       "      <td>0</td>\n",
       "      <td>0</td>\n",
       "      <td>0</td>\n",
       "    </tr>\n",
       "    <tr>\n",
       "      <th>4</th>\n",
       "      <td>1803</td>\n",
       "      <td>0</td>\n",
       "      <td>0</td>\n",
       "      <td>0</td>\n",
       "      <td>0</td>\n",
       "      <td>0</td>\n",
       "      <td>0</td>\n",
       "      <td>0</td>\n",
       "    </tr>\n",
       "    <tr>\n",
       "      <th>...</th>\n",
       "      <td>...</td>\n",
       "      <td>...</td>\n",
       "      <td>...</td>\n",
       "      <td>...</td>\n",
       "      <td>...</td>\n",
       "      <td>...</td>\n",
       "      <td>...</td>\n",
       "      <td>...</td>\n",
       "    </tr>\n",
       "    <tr>\n",
       "      <th>1097455</th>\n",
       "      <td>1925</td>\n",
       "      <td>0</td>\n",
       "      <td>0</td>\n",
       "      <td>0</td>\n",
       "      <td>0</td>\n",
       "      <td>0</td>\n",
       "      <td>0</td>\n",
       "      <td>0</td>\n",
       "    </tr>\n",
       "    <tr>\n",
       "      <th>1097456</th>\n",
       "      <td>1925</td>\n",
       "      <td>0</td>\n",
       "      <td>0</td>\n",
       "      <td>0</td>\n",
       "      <td>0</td>\n",
       "      <td>0</td>\n",
       "      <td>0</td>\n",
       "      <td>0</td>\n",
       "    </tr>\n",
       "    <tr>\n",
       "      <th>1097457</th>\n",
       "      <td>1925</td>\n",
       "      <td>0</td>\n",
       "      <td>0</td>\n",
       "      <td>0</td>\n",
       "      <td>0</td>\n",
       "      <td>0</td>\n",
       "      <td>0</td>\n",
       "      <td>0</td>\n",
       "    </tr>\n",
       "    <tr>\n",
       "      <th>1097458</th>\n",
       "      <td>1925</td>\n",
       "      <td>0</td>\n",
       "      <td>0</td>\n",
       "      <td>0</td>\n",
       "      <td>0</td>\n",
       "      <td>0</td>\n",
       "      <td>0</td>\n",
       "      <td>0</td>\n",
       "    </tr>\n",
       "    <tr>\n",
       "      <th>1097459</th>\n",
       "      <td>1925</td>\n",
       "      <td>0</td>\n",
       "      <td>0</td>\n",
       "      <td>0</td>\n",
       "      <td>0</td>\n",
       "      <td>0</td>\n",
       "      <td>0</td>\n",
       "      <td>0</td>\n",
       "    </tr>\n",
       "  </tbody>\n",
       "</table>\n",
       "<p>1097460 rows × 8 columns</p>\n",
       "</div>"
      ],
      "text/plain": [
       "         year  smith  malthus  owen  spencer  galton  pearson  bentham\n",
       "0        1803      0        0     0        0       0        0        0\n",
       "1        1803      0        0     0        0       0        0        0\n",
       "2        1803      0        0     0        0       0        0        0\n",
       "3        1803      0        0     0        0       0        0        0\n",
       "4        1803      0        0     0        0       0        0        0\n",
       "...       ...    ...      ...   ...      ...     ...      ...      ...\n",
       "1097455  1925      0        0     0        0       0        0        0\n",
       "1097456  1925      0        0     0        0       0        0        0\n",
       "1097457  1925      0        0     0        0       0        0        0\n",
       "1097458  1925      0        0     0        0       0        0        0\n",
       "1097459  1925      0        0     0        0       0        0        0\n",
       "\n",
       "[1097460 rows x 8 columns]"
      ]
     },
     "execution_count": 56,
     "metadata": {},
     "output_type": "execute_result"
    }
   ],
   "source": [
    "theorists"
   ]
  },
  {
   "cell_type": "markdown",
   "metadata": {},
   "source": [
    "## Create annual time series"
   ]
  },
  {
   "cell_type": "code",
   "execution_count": 57,
   "metadata": {
    "ExecuteTime": {
     "end_time": "2021-08-30T22:35:09.795925Z",
     "start_time": "2021-08-30T22:35:09.788633Z"
    }
   },
   "outputs": [],
   "source": [
    "theorists_yr = pd.DataFrame(theorists['year'].unique(), columns=['year'])"
   ]
  },
  {
   "cell_type": "code",
   "execution_count": 62,
   "metadata": {
    "ExecuteTime": {
     "end_time": "2021-08-30T22:39:47.484512Z",
     "start_time": "2021-08-30T22:39:47.346937Z"
    }
   },
   "outputs": [],
   "source": [
    "guys = {'smith':[], 'malthus':[], 'owen':[], 'spencer':[], 'galton':[], 'pearson':[], 'bentham':[]}\n",
    "theorists_yr = pd.DataFrame(theorists['year'].unique(), columns=['year'])\n",
    "for year, df in theorists.groupby('year'):\n",
    "    for guy in guys: \n",
    "        guys[guy].append(df[guy].sum())\n",
    "for guy in guys: \n",
    "    theorists_yr[guy] = guys[guy]"
   ]
  },
  {
   "cell_type": "code",
   "execution_count": 63,
   "metadata": {
    "ExecuteTime": {
     "end_time": "2021-08-30T22:39:55.835555Z",
     "start_time": "2021-08-30T22:39:55.824642Z"
    }
   },
   "outputs": [
    {
     "data": {
      "text/html": [
       "<div>\n",
       "<style scoped>\n",
       "    .dataframe tbody tr th:only-of-type {\n",
       "        vertical-align: middle;\n",
       "    }\n",
       "\n",
       "    .dataframe tbody tr th {\n",
       "        vertical-align: top;\n",
       "    }\n",
       "\n",
       "    .dataframe thead th {\n",
       "        text-align: right;\n",
       "    }\n",
       "</style>\n",
       "<table border=\"1\" class=\"dataframe\">\n",
       "  <thead>\n",
       "    <tr style=\"text-align: right;\">\n",
       "      <th></th>\n",
       "      <th>year</th>\n",
       "      <th>smith</th>\n",
       "      <th>malthus</th>\n",
       "      <th>owen</th>\n",
       "      <th>spencer</th>\n",
       "      <th>galton</th>\n",
       "      <th>pearson</th>\n",
       "      <th>bentham</th>\n",
       "    </tr>\n",
       "  </thead>\n",
       "  <tbody>\n",
       "    <tr>\n",
       "      <th>0</th>\n",
       "      <td>1803</td>\n",
       "      <td>0</td>\n",
       "      <td>0</td>\n",
       "      <td>0</td>\n",
       "      <td>0</td>\n",
       "      <td>0</td>\n",
       "      <td>0</td>\n",
       "      <td>0</td>\n",
       "    </tr>\n",
       "    <tr>\n",
       "      <th>1</th>\n",
       "      <td>1804</td>\n",
       "      <td>1</td>\n",
       "      <td>0</td>\n",
       "      <td>0</td>\n",
       "      <td>0</td>\n",
       "      <td>0</td>\n",
       "      <td>1</td>\n",
       "      <td>0</td>\n",
       "    </tr>\n",
       "    <tr>\n",
       "      <th>2</th>\n",
       "      <td>1805</td>\n",
       "      <td>0</td>\n",
       "      <td>0</td>\n",
       "      <td>0</td>\n",
       "      <td>0</td>\n",
       "      <td>0</td>\n",
       "      <td>1</td>\n",
       "      <td>0</td>\n",
       "    </tr>\n",
       "    <tr>\n",
       "      <th>3</th>\n",
       "      <td>1806</td>\n",
       "      <td>1</td>\n",
       "      <td>0</td>\n",
       "      <td>0</td>\n",
       "      <td>0</td>\n",
       "      <td>0</td>\n",
       "      <td>0</td>\n",
       "      <td>0</td>\n",
       "    </tr>\n",
       "    <tr>\n",
       "      <th>4</th>\n",
       "      <td>1807</td>\n",
       "      <td>2</td>\n",
       "      <td>0</td>\n",
       "      <td>0</td>\n",
       "      <td>0</td>\n",
       "      <td>0</td>\n",
       "      <td>0</td>\n",
       "      <td>0</td>\n",
       "    </tr>\n",
       "    <tr>\n",
       "      <th>...</th>\n",
       "      <td>...</td>\n",
       "      <td>...</td>\n",
       "      <td>...</td>\n",
       "      <td>...</td>\n",
       "      <td>...</td>\n",
       "      <td>...</td>\n",
       "      <td>...</td>\n",
       "      <td>...</td>\n",
       "    </tr>\n",
       "    <tr>\n",
       "      <th>106</th>\n",
       "      <td>1911</td>\n",
       "      <td>12</td>\n",
       "      <td>0</td>\n",
       "      <td>0</td>\n",
       "      <td>6</td>\n",
       "      <td>1</td>\n",
       "      <td>2</td>\n",
       "      <td>2</td>\n",
       "    </tr>\n",
       "    <tr>\n",
       "      <th>107</th>\n",
       "      <td>1912</td>\n",
       "      <td>7</td>\n",
       "      <td>1</td>\n",
       "      <td>0</td>\n",
       "      <td>0</td>\n",
       "      <td>0</td>\n",
       "      <td>14</td>\n",
       "      <td>5</td>\n",
       "    </tr>\n",
       "    <tr>\n",
       "      <th>108</th>\n",
       "      <td>1913</td>\n",
       "      <td>1</td>\n",
       "      <td>0</td>\n",
       "      <td>0</td>\n",
       "      <td>4</td>\n",
       "      <td>0</td>\n",
       "      <td>8</td>\n",
       "      <td>4</td>\n",
       "    </tr>\n",
       "    <tr>\n",
       "      <th>109</th>\n",
       "      <td>1914</td>\n",
       "      <td>5</td>\n",
       "      <td>0</td>\n",
       "      <td>0</td>\n",
       "      <td>0</td>\n",
       "      <td>0</td>\n",
       "      <td>4</td>\n",
       "      <td>2</td>\n",
       "    </tr>\n",
       "    <tr>\n",
       "      <th>110</th>\n",
       "      <td>1925</td>\n",
       "      <td>0</td>\n",
       "      <td>0</td>\n",
       "      <td>0</td>\n",
       "      <td>0</td>\n",
       "      <td>0</td>\n",
       "      <td>0</td>\n",
       "      <td>0</td>\n",
       "    </tr>\n",
       "  </tbody>\n",
       "</table>\n",
       "<p>111 rows × 8 columns</p>\n",
       "</div>"
      ],
      "text/plain": [
       "     year  smith  malthus  owen  spencer  galton  pearson  bentham\n",
       "0    1803      0        0     0        0       0        0        0\n",
       "1    1804      1        0     0        0       0        1        0\n",
       "2    1805      0        0     0        0       0        1        0\n",
       "3    1806      1        0     0        0       0        0        0\n",
       "4    1807      2        0     0        0       0        0        0\n",
       "..    ...    ...      ...   ...      ...     ...      ...      ...\n",
       "106  1911     12        0     0        6       1        2        2\n",
       "107  1912      7        1     0        0       0       14        5\n",
       "108  1913      1        0     0        4       0        8        4\n",
       "109  1914      5        0     0        0       0        4        2\n",
       "110  1925      0        0     0        0       0        0        0\n",
       "\n",
       "[111 rows x 8 columns]"
      ]
     },
     "execution_count": 63,
     "metadata": {},
     "output_type": "execute_result"
    }
   ],
   "source": [
    "theorists_yr"
   ]
  },
  {
   "cell_type": "code",
   "execution_count": 64,
   "metadata": {
    "ExecuteTime": {
     "end_time": "2021-08-30T22:40:31.789176Z",
     "start_time": "2021-08-30T22:40:31.761665Z"
    }
   },
   "outputs": [],
   "source": [
    "theorists_yr.to_stata(IVS+\"theorists.dta\", write_index=False)"
   ]
  }
 ],
 "metadata": {
  "kernelspec": {
   "display_name": "Python 3",
   "language": "python",
   "name": "python3"
  },
  "language_info": {
   "codemirror_mode": {
    "name": "ipython",
    "version": 3
   },
   "file_extension": ".py",
   "mimetype": "text/x-python",
   "name": "python",
   "nbconvert_exporter": "python",
   "pygments_lexer": "ipython3",
   "version": "3.8.5"
  },
  "toc": {
   "base_numbering": 1,
   "nav_menu": {},
   "number_sections": true,
   "sideBar": true,
   "skip_h1_title": false,
   "title_cell": "Table of Contents",
   "title_sidebar": "Contents",
   "toc_cell": true,
   "toc_position": {},
   "toc_section_display": true,
   "toc_window_display": false
  }
 },
 "nbformat": 4,
 "nbformat_minor": 4
}
