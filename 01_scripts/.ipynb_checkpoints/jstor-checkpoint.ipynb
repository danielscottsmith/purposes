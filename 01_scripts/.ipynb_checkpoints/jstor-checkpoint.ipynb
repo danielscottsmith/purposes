{
 "cells": [
  {
   "cell_type": "markdown",
   "id": "7122ef18-1e87-4546-8f03-02f85dffe0dc",
   "metadata": {},
   "source": [
    "## Goal\n",
    "\n",
    "Find journals in Peter's csv that are hosted by JSTOR."
   ]
  },
  {
   "cell_type": "markdown",
   "id": "97f75d75-0b7c-4071-bbe5-b0dd97195c40",
   "metadata": {},
   "source": [
    "## Libraries"
   ]
  },
  {
   "cell_type": "code",
   "execution_count": 1,
   "id": "0ddfc310-8bd8-4dd1-9e86-27eac20a660f",
   "metadata": {},
   "outputs": [],
   "source": [
    "import pandas as pd\n",
    "import glob\n",
    "import csv"
   ]
  },
  {
   "cell_type": "markdown",
   "id": "edbc6fe6-8681-48e8-b1d2-34dd4ea8917f",
   "metadata": {},
   "source": [
    "## Read in Data"
   ]
  },
  {
   "cell_type": "code",
   "execution_count": 2,
   "id": "ead1e178-06e0-4009-9ae9-acf77c832cc3",
   "metadata": {},
   "outputs": [],
   "source": [
    "jstor_txt = glob.glob(\"*txt\")[0]\n",
    "triad_csv = glob.glob(\"*csv\")[0]\n",
    "jstor_df = pd.read_csv(jstor_txt, delimiter='\\t', usecols=[\"publication_title\"])\n",
    "triad_df = pd.read_csv(triad_csv)"
   ]
  },
  {
   "cell_type": "code",
   "execution_count": 3,
   "id": "275c2154-e781-4e82-9f55-a9d537e04a2b",
   "metadata": {},
   "outputs": [],
   "source": [
    "jstor_df['publication_title'] = jstor_df['publication_title'].apply(lambda x: x.lower())"
   ]
  },
  {
   "cell_type": "code",
   "execution_count": 7,
   "id": "bea10b29-2f6f-406a-a3a1-1f96f881fdfe",
   "metadata": {},
   "outputs": [
    {
     "data": {
      "text/html": [
       "<div>\n",
       "<style scoped>\n",
       "    .dataframe tbody tr th:only-of-type {\n",
       "        vertical-align: middle;\n",
       "    }\n",
       "\n",
       "    .dataframe tbody tr th {\n",
       "        vertical-align: top;\n",
       "    }\n",
       "\n",
       "    .dataframe thead th {\n",
       "        text-align: right;\n",
       "    }\n",
       "</style>\n",
       "<table border=\"1\" class=\"dataframe\">\n",
       "  <thead>\n",
       "    <tr style=\"text-align: right;\">\n",
       "      <th></th>\n",
       "      <th>publication_title</th>\n",
       "    </tr>\n",
       "  </thead>\n",
       "  <tbody>\n",
       "    <tr>\n",
       "      <th>0</th>\n",
       "      <td>14th century english mystics newsletter</td>\n",
       "    </tr>\n",
       "    <tr>\n",
       "      <th>1</th>\n",
       "      <td>19th-century music</td>\n",
       "    </tr>\n",
       "    <tr>\n",
       "      <th>2</th>\n",
       "      <td>291</td>\n",
       "    </tr>\n",
       "    <tr>\n",
       "      <th>3</th>\n",
       "      <td>4s review</td>\n",
       "    </tr>\n",
       "    <tr>\n",
       "      <th>4</th>\n",
       "      <td>vii: journal of the marion e. wade center</td>\n",
       "    </tr>\n",
       "  </tbody>\n",
       "</table>\n",
       "</div>"
      ],
      "text/plain": [
       "                           publication_title\n",
       "0    14th century english mystics newsletter\n",
       "1                         19th-century music\n",
       "2                                        291\n",
       "3                                  4s review\n",
       "4  vii: journal of the marion e. wade center"
      ]
     },
     "execution_count": 7,
     "metadata": {},
     "output_type": "execute_result"
    }
   ],
   "source": [
    "jstor_df.head()"
   ]
  },
  {
   "cell_type": "code",
   "execution_count": 5,
   "id": "489e6369-3efd-4453-a80e-8c3b89ee5cb2",
   "metadata": {},
   "outputs": [],
   "source": [
    "triad_df['journal_title'] = triad_df['journal_title'].apply(lambda x: x.lower())"
   ]
  },
  {
   "cell_type": "code",
   "execution_count": 8,
   "id": "089b1ded-4c6b-44f0-9e14-72be59cfe5fc",
   "metadata": {},
   "outputs": [
    {
     "data": {
      "text/html": [
       "<div>\n",
       "<style scoped>\n",
       "    .dataframe tbody tr th:only-of-type {\n",
       "        vertical-align: middle;\n",
       "    }\n",
       "\n",
       "    .dataframe tbody tr th {\n",
       "        vertical-align: top;\n",
       "    }\n",
       "\n",
       "    .dataframe thead th {\n",
       "        text-align: right;\n",
       "    }\n",
       "</style>\n",
       "<table border=\"1\" class=\"dataframe\">\n",
       "  <thead>\n",
       "    <tr style=\"text-align: right;\">\n",
       "      <th></th>\n",
       "      <th>journal_title</th>\n",
       "    </tr>\n",
       "  </thead>\n",
       "  <tbody>\n",
       "    <tr>\n",
       "      <th>0</th>\n",
       "      <td>american journal of human genetics</td>\n",
       "    </tr>\n",
       "    <tr>\n",
       "      <th>1</th>\n",
       "      <td>american journal of human genetics</td>\n",
       "    </tr>\n",
       "    <tr>\n",
       "      <th>2</th>\n",
       "      <td>american journal of human genetics</td>\n",
       "    </tr>\n",
       "    <tr>\n",
       "      <th>3</th>\n",
       "      <td>american journal of human genetics</td>\n",
       "    </tr>\n",
       "    <tr>\n",
       "      <th>4</th>\n",
       "      <td>american journal of human genetics</td>\n",
       "    </tr>\n",
       "  </tbody>\n",
       "</table>\n",
       "</div>"
      ],
      "text/plain": [
       "                        journal_title\n",
       "0  american journal of human genetics\n",
       "1  american journal of human genetics\n",
       "2  american journal of human genetics\n",
       "3  american journal of human genetics\n",
       "4  american journal of human genetics"
      ]
     },
     "execution_count": 8,
     "metadata": {},
     "output_type": "execute_result"
    }
   ],
   "source": [
    "triad_df[['journal_title']].head()"
   ]
  },
  {
   "cell_type": "markdown",
   "id": "448fedec-355f-4c56-9b50-a0cce14375c2",
   "metadata": {},
   "source": [
    "### Select rows that appear in jstor"
   ]
  },
  {
   "cell_type": "code",
   "execution_count": null,
   "id": "54da5e8c-2621-48c8-ad42-76b66ba9391b",
   "metadata": {},
   "outputs": [],
   "source": [
    "triads_in_jstor = triad_df[~triad_df.journal_title.isin(jstor_df['publication_title'])]"
   ]
  },
  {
   "cell_type": "code",
   "execution_count": 11,
   "id": "d1891dbc-6842-4598-8128-91e0b0c42e90",
   "metadata": {},
   "outputs": [
    {
     "data": {
      "text/plain": [
       "(14143, 8)"
      ]
     },
     "execution_count": 11,
     "metadata": {},
     "output_type": "execute_result"
    }
   ],
   "source": [
    "triads_in_jstor.shape"
   ]
  },
  {
   "cell_type": "code",
   "execution_count": 12,
   "id": "f986a076-4e74-4a60-a769-0cf92fbc21e0",
   "metadata": {},
   "outputs": [
    {
     "data": {
      "text/plain": [
       "(16245, 8)"
      ]
     },
     "execution_count": 12,
     "metadata": {},
     "output_type": "execute_result"
    }
   ],
   "source": [
    "triad_df.shape"
   ]
  },
  {
   "cell_type": "code",
   "execution_count": 13,
   "id": "fd8ffca2-6fa3-40d6-87c4-2b396242d8f8",
   "metadata": {},
   "outputs": [],
   "source": [
    "triads_in_jstor.to_csv(\"jstor_triads.csv\")"
   ]
  },
  {
   "cell_type": "code",
   "execution_count": null,
   "id": "62f74a7e-95fb-4c9f-b229-89d6ffbe5d8b",
   "metadata": {},
   "outputs": [],
   "source": []
  }
 ],
 "metadata": {
  "kernelspec": {
   "display_name": "Python 3 (ipykernel)",
   "language": "python",
   "name": "python3"
  },
  "language_info": {
   "codemirror_mode": {
    "name": "ipython",
    "version": 3
   },
   "file_extension": ".py",
   "mimetype": "text/x-python",
   "name": "python",
   "nbconvert_exporter": "python",
   "pygments_lexer": "ipython3",
   "version": "3.10.4"
  }
 },
 "nbformat": 4,
 "nbformat_minor": 5
}
