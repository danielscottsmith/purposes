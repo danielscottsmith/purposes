{
 "cells": [
  {
   "cell_type": "markdown",
   "metadata": {
    "toc": true
   },
   "source": [
    "<h1>Table of Contents<span class=\"tocSkip\"></span></h1>\n",
    "<div class=\"toc\"><ul class=\"toc-item\"><li><span><a href=\"#Select-variables-for-analysis\" data-toc-modified-id=\"Select-variables-for-analysis-1\"><span class=\"toc-item-num\">1&nbsp;&nbsp;</span>Select variables for analysis</a></span></li><li><span><a href=\"#Limit-data-to-subpopulation-of-states-in-19-C-West\" data-toc-modified-id=\"Limit-data-to-subpopulation-of-states-in-19-C-West-2\"><span class=\"toc-item-num\">2&nbsp;&nbsp;</span>Limit data to subpopulation of states in 19 C West</a></span><ul class=\"toc-item\"><li><span><a href=\"#Drop--variables-missing-all-values-&amp;-change-state-names\" data-toc-modified-id=\"Drop--variables-missing-all-values-&amp;-change-state-names-2.1\"><span class=\"toc-item-num\">2.1&nbsp;&nbsp;</span>Drop  variables missing all values &amp; change state names</a></span></li></ul></li><li><span><a href=\"#Export-data-to-Stata\" data-toc-modified-id=\"Export-data-to-Stata-3\"><span class=\"toc-item-num\">3&nbsp;&nbsp;</span>Export data to Stata</a></span></li></ul></div>"
   ]
  },
  {
   "cell_type": "markdown",
   "metadata": {},
   "source": [
    "***This notebook takes the big V-Dem dataset (too big for Stata IC) and reduces it to a subset of relevant data, filterned by world region and selected variables on state structuration.***"
   ]
  },
  {
   "cell_type": "code",
   "execution_count": 1,
   "metadata": {
    "ExecuteTime": {
     "end_time": "2022-07-09T21:28:06.157759Z",
     "start_time": "2022-07-09T21:28:05.193452Z"
    }
   },
   "outputs": [],
   "source": [
    "import pandas as pd\n",
    "import os"
   ]
  },
  {
   "cell_type": "code",
   "execution_count": 2,
   "metadata": {
    "ExecuteTime": {
     "end_time": "2022-07-09T21:28:06.162269Z",
     "start_time": "2022-07-09T21:28:06.159606Z"
    }
   },
   "outputs": [
    {
     "name": "stdout",
     "output_type": "stream",
     "text": [
      "/Volumes/GoogleDrive-107745440581041782819/My Drive/00_Researching/16_SocialScientization/-03/00_replication/\n",
      "/Volumes/GoogleDrive-107745440581041782819/My Drive/00_Researching/16_SocialScientization/-03/00_replication/00_data/\n"
     ]
    }
   ],
   "source": [
    "DIRECTORY = os.path.dirname(os.getcwd()) + '/'\n",
    "print(DIRECTORY)\n",
    "DATA = DIRECTORY + '00_data/'\n",
    "print(DATA)"
   ]
  },
  {
   "cell_type": "markdown",
   "metadata": {},
   "source": [
    "## Select variables for analysis"
   ]
  },
  {
   "cell_type": "code",
   "execution_count": 3,
   "metadata": {
    "ExecuteTime": {
     "end_time": "2022-07-09T21:28:06.168641Z",
     "start_time": "2022-07-09T21:28:06.163566Z"
    }
   },
   "outputs": [],
   "source": [
    "variables = \"\"\"year country_name histname e_regiongeo v2exnamhog v2extithog v2lpname \n",
    "e_gdp\n",
    "e_pelifeex e_pefeliex e_pematmor e_peinfmor\n",
    "e_miurbani e_miurbpop e_mipopula \n",
    "v2x_suffr v2x_polyarchy v2x_partipdem v2x_libdem v2x_delibdem v2x_egaldem v2dlencmps\n",
    "v2xel_frefair e_polity2 v2xnp_client v2x_partip v2xeg_eqprotec\n",
    "v2peprisch e_civil_war e_miinteco e_miinterc e_pt_coup \n",
    "v3stnatant v3stcitlaw v3stnatbank v3stflag \n",
    "v3stcensus v3ststatag v3ststybcov v3ststybpub  \n",
    "v3ststeecap v2canuni\"\"\"\n",
    "variables = variables.split()"
   ]
  },
  {
   "cell_type": "code",
   "execution_count": 4,
   "metadata": {
    "ExecuteTime": {
     "end_time": "2022-07-09T21:28:08.352763Z",
     "start_time": "2022-07-09T21:28:06.170651Z"
    },
    "scrolled": true
   },
   "outputs": [
    {
     "name": "stderr",
     "output_type": "stream",
     "text": [
      "/var/folders/wk/syz2_hq141l5z1r4sy2xjj080000gn/T/ipykernel_88431/3655572050.py:1: DtypeWarning: Columns (364,831,832) have mixed types. Specify dtype option on import or set low_memory=False.\n",
      "  vdem = pd.read_csv(DATA+'01_ivs/' + \"VDEM-v12.csv\", usecols=variables)\n"
     ]
    }
   ],
   "source": [
    "vdem = pd.read_csv(DATA+'01_ivs/' + \"VDEM-v12.csv\", usecols=variables)"
   ]
  },
  {
   "cell_type": "code",
   "execution_count": 5,
   "metadata": {
    "ExecuteTime": {
     "end_time": "2022-07-09T21:28:08.361100Z",
     "start_time": "2022-07-09T21:28:08.354218Z"
    }
   },
   "outputs": [
    {
     "data": {
      "text/plain": [
       "(27380, 42)"
      ]
     },
     "execution_count": 5,
     "metadata": {},
     "output_type": "execute_result"
    }
   ],
   "source": [
    "vdem.shape"
   ]
  },
  {
   "cell_type": "markdown",
   "metadata": {},
   "source": [
    "## Limit data to subpopulation of states in 19 C West"
   ]
  },
  {
   "cell_type": "code",
   "execution_count": 6,
   "metadata": {
    "ExecuteTime": {
     "end_time": "2022-07-09T21:28:08.368944Z",
     "start_time": "2022-07-09T21:28:08.362403Z"
    }
   },
   "outputs": [],
   "source": [
    "west = vdem.loc[(vdem['e_regiongeo'] < 5) | (vdem['e_regiongeo'] == 16)]"
   ]
  },
  {
   "cell_type": "code",
   "execution_count": 7,
   "metadata": {
    "ExecuteTime": {
     "end_time": "2022-07-09T21:28:08.375430Z",
     "start_time": "2022-07-09T21:28:08.370433Z"
    }
   },
   "outputs": [],
   "source": [
    "west = west.loc[(west['year'] < 1915) & (west['year'] > 1799)]\n",
    "# west = west.loc[(west['year'] < 2020) & (west['year'] > 1799)]"
   ]
  },
  {
   "cell_type": "code",
   "execution_count": 8,
   "metadata": {
    "ExecuteTime": {
     "end_time": "2022-07-09T21:28:08.379850Z",
     "start_time": "2022-07-09T21:28:08.376933Z"
    }
   },
   "outputs": [
    {
     "data": {
      "text/plain": [
       "(3805, 42)"
      ]
     },
     "execution_count": 8,
     "metadata": {},
     "output_type": "execute_result"
    }
   ],
   "source": [
    "west.shape"
   ]
  },
  {
   "cell_type": "markdown",
   "metadata": {},
   "source": [
    "### Drop  variables missing all values & change state names"
   ]
  },
  {
   "cell_type": "code",
   "execution_count": 9,
   "metadata": {
    "ExecuteTime": {
     "end_time": "2022-07-09T21:28:08.386671Z",
     "start_time": "2022-07-09T21:28:08.381234Z"
    }
   },
   "outputs": [],
   "source": [
    "west.dropna(how='all', axis=1, inplace=True)"
   ]
  },
  {
   "cell_type": "code",
   "execution_count": 10,
   "metadata": {
    "ExecuteTime": {
     "end_time": "2022-07-09T21:28:08.395538Z",
     "start_time": "2022-07-09T21:28:08.389765Z"
    }
   },
   "outputs": [],
   "source": [
    "west = west.dropna(how='all')"
   ]
  },
  {
   "cell_type": "code",
   "execution_count": 11,
   "metadata": {
    "ExecuteTime": {
     "end_time": "2022-07-09T21:28:08.399835Z",
     "start_time": "2022-07-09T21:28:08.396906Z"
    }
   },
   "outputs": [
    {
     "data": {
      "text/plain": [
       "(3805, 41)"
      ]
     },
     "execution_count": 11,
     "metadata": {},
     "output_type": "execute_result"
    }
   ],
   "source": [
    "west.shape"
   ]
  },
  {
   "cell_type": "code",
   "execution_count": 12,
   "metadata": {
    "ExecuteTime": {
     "end_time": "2022-07-09T21:28:08.404936Z",
     "start_time": "2022-07-09T21:28:08.401172Z"
    }
   },
   "outputs": [],
   "source": [
    "west.replace(\"Würtemberg\", \"Wuertemberg\", inplace=True)"
   ]
  },
  {
   "cell_type": "code",
   "execution_count": 13,
   "metadata": {
    "ExecuteTime": {
     "end_time": "2022-07-09T21:28:08.426584Z",
     "start_time": "2022-07-09T21:28:08.406798Z"
    }
   },
   "outputs": [
    {
     "data": {
      "text/html": [
       "<div>\n",
       "<style scoped>\n",
       "    .dataframe tbody tr th:only-of-type {\n",
       "        vertical-align: middle;\n",
       "    }\n",
       "\n",
       "    .dataframe tbody tr th {\n",
       "        vertical-align: top;\n",
       "    }\n",
       "\n",
       "    .dataframe thead th {\n",
       "        text-align: right;\n",
       "    }\n",
       "</style>\n",
       "<table border=\"1\" class=\"dataframe\">\n",
       "  <thead>\n",
       "    <tr style=\"text-align: right;\">\n",
       "      <th></th>\n",
       "      <th>country_name</th>\n",
       "      <th>year</th>\n",
       "      <th>histname</th>\n",
       "      <th>v2x_polyarchy</th>\n",
       "      <th>v2x_libdem</th>\n",
       "      <th>v2x_partipdem</th>\n",
       "      <th>v2x_delibdem</th>\n",
       "      <th>v2x_egaldem</th>\n",
       "      <th>v2x_suffr</th>\n",
       "      <th>v2xel_frefair</th>\n",
       "      <th>...</th>\n",
       "      <th>e_mipopula</th>\n",
       "      <th>e_miurbani</th>\n",
       "      <th>e_miurbpop</th>\n",
       "      <th>e_pefeliex</th>\n",
       "      <th>e_peinfmor</th>\n",
       "      <th>e_pelifeex</th>\n",
       "      <th>e_pematmor</th>\n",
       "      <th>e_civil_war</th>\n",
       "      <th>e_miinteco</th>\n",
       "      <th>e_miinterc</th>\n",
       "    </tr>\n",
       "  </thead>\n",
       "  <tbody>\n",
       "    <tr>\n",
       "      <th>366</th>\n",
       "      <td>Sweden</td>\n",
       "      <td>1800</td>\n",
       "      <td>Kingdom of Sweden</td>\n",
       "      <td>0.188</td>\n",
       "      <td>0.226</td>\n",
       "      <td>0.05</td>\n",
       "      <td>NaN</td>\n",
       "      <td>NaN</td>\n",
       "      <td>0.0</td>\n",
       "      <td>0.818</td>\n",
       "      <td>...</td>\n",
       "      <td>2500.0</td>\n",
       "      <td>0.058</td>\n",
       "      <td>145.00</td>\n",
       "      <td>33.150</td>\n",
       "      <td>240.0</td>\n",
       "      <td>32.2</td>\n",
       "      <td>896.0</td>\n",
       "      <td>NaN</td>\n",
       "      <td>0.0</td>\n",
       "      <td>0.0</td>\n",
       "    </tr>\n",
       "    <tr>\n",
       "      <th>367</th>\n",
       "      <td>Sweden</td>\n",
       "      <td>1801</td>\n",
       "      <td>Kingdom of Sweden</td>\n",
       "      <td>0.188</td>\n",
       "      <td>0.226</td>\n",
       "      <td>0.05</td>\n",
       "      <td>NaN</td>\n",
       "      <td>NaN</td>\n",
       "      <td>0.0</td>\n",
       "      <td>0.818</td>\n",
       "      <td>...</td>\n",
       "      <td>2489.6</td>\n",
       "      <td>0.059</td>\n",
       "      <td>146.46</td>\n",
       "      <td>33.198</td>\n",
       "      <td>204.0</td>\n",
       "      <td>36.9</td>\n",
       "      <td>840.0</td>\n",
       "      <td>NaN</td>\n",
       "      <td>0.0</td>\n",
       "      <td>0.0</td>\n",
       "    </tr>\n",
       "    <tr>\n",
       "      <th>368</th>\n",
       "      <td>Sweden</td>\n",
       "      <td>1802</td>\n",
       "      <td>Kingdom of Sweden</td>\n",
       "      <td>0.188</td>\n",
       "      <td>0.226</td>\n",
       "      <td>0.05</td>\n",
       "      <td>NaN</td>\n",
       "      <td>NaN</td>\n",
       "      <td>0.0</td>\n",
       "      <td>0.818</td>\n",
       "      <td>...</td>\n",
       "      <td>2479.2</td>\n",
       "      <td>0.060</td>\n",
       "      <td>147.92</td>\n",
       "      <td>33.246</td>\n",
       "      <td>182.0</td>\n",
       "      <td>40.2</td>\n",
       "      <td>842.0</td>\n",
       "      <td>NaN</td>\n",
       "      <td>0.0</td>\n",
       "      <td>0.0</td>\n",
       "    </tr>\n",
       "    <tr>\n",
       "      <th>369</th>\n",
       "      <td>Sweden</td>\n",
       "      <td>1803</td>\n",
       "      <td>Kingdom of Sweden</td>\n",
       "      <td>0.188</td>\n",
       "      <td>0.226</td>\n",
       "      <td>0.05</td>\n",
       "      <td>NaN</td>\n",
       "      <td>NaN</td>\n",
       "      <td>0.0</td>\n",
       "      <td>0.818</td>\n",
       "      <td>...</td>\n",
       "      <td>2468.8</td>\n",
       "      <td>0.061</td>\n",
       "      <td>149.38</td>\n",
       "      <td>33.294</td>\n",
       "      <td>184.0</td>\n",
       "      <td>40.3</td>\n",
       "      <td>819.0</td>\n",
       "      <td>NaN</td>\n",
       "      <td>0.0</td>\n",
       "      <td>0.0</td>\n",
       "    </tr>\n",
       "    <tr>\n",
       "      <th>370</th>\n",
       "      <td>Sweden</td>\n",
       "      <td>1804</td>\n",
       "      <td>Kingdom of Sweden</td>\n",
       "      <td>0.188</td>\n",
       "      <td>0.226</td>\n",
       "      <td>0.05</td>\n",
       "      <td>NaN</td>\n",
       "      <td>NaN</td>\n",
       "      <td>0.0</td>\n",
       "      <td>0.818</td>\n",
       "      <td>...</td>\n",
       "      <td>2458.4</td>\n",
       "      <td>0.061</td>\n",
       "      <td>150.84</td>\n",
       "      <td>33.342</td>\n",
       "      <td>185.0</td>\n",
       "      <td>39.7</td>\n",
       "      <td>755.0</td>\n",
       "      <td>NaN</td>\n",
       "      <td>0.0</td>\n",
       "      <td>0.0</td>\n",
       "    </tr>\n",
       "  </tbody>\n",
       "</table>\n",
       "<p>5 rows × 41 columns</p>\n",
       "</div>"
      ],
      "text/plain": [
       "    country_name  year           histname  v2x_polyarchy  v2x_libdem  \\\n",
       "366       Sweden  1800  Kingdom of Sweden          0.188       0.226   \n",
       "367       Sweden  1801  Kingdom of Sweden          0.188       0.226   \n",
       "368       Sweden  1802  Kingdom of Sweden          0.188       0.226   \n",
       "369       Sweden  1803  Kingdom of Sweden          0.188       0.226   \n",
       "370       Sweden  1804  Kingdom of Sweden          0.188       0.226   \n",
       "\n",
       "     v2x_partipdem  v2x_delibdem  v2x_egaldem  v2x_suffr  v2xel_frefair  ...  \\\n",
       "366           0.05           NaN          NaN        0.0          0.818  ...   \n",
       "367           0.05           NaN          NaN        0.0          0.818  ...   \n",
       "368           0.05           NaN          NaN        0.0          0.818  ...   \n",
       "369           0.05           NaN          NaN        0.0          0.818  ...   \n",
       "370           0.05           NaN          NaN        0.0          0.818  ...   \n",
       "\n",
       "     e_mipopula  e_miurbani e_miurbpop e_pefeliex e_peinfmor  e_pelifeex  \\\n",
       "366      2500.0       0.058     145.00     33.150      240.0        32.2   \n",
       "367      2489.6       0.059     146.46     33.198      204.0        36.9   \n",
       "368      2479.2       0.060     147.92     33.246      182.0        40.2   \n",
       "369      2468.8       0.061     149.38     33.294      184.0        40.3   \n",
       "370      2458.4       0.061     150.84     33.342      185.0        39.7   \n",
       "\n",
       "     e_pematmor  e_civil_war  e_miinteco  e_miinterc  \n",
       "366       896.0          NaN         0.0         0.0  \n",
       "367       840.0          NaN         0.0         0.0  \n",
       "368       842.0          NaN         0.0         0.0  \n",
       "369       819.0          NaN         0.0         0.0  \n",
       "370       755.0          NaN         0.0         0.0  \n",
       "\n",
       "[5 rows x 41 columns]"
      ]
     },
     "execution_count": 13,
     "metadata": {},
     "output_type": "execute_result"
    }
   ],
   "source": [
    "west.head()"
   ]
  },
  {
   "cell_type": "markdown",
   "metadata": {},
   "source": [
    "## Export data to Stata"
   ]
  },
  {
   "cell_type": "code",
   "execution_count": 14,
   "metadata": {
    "ExecuteTime": {
     "end_time": "2022-07-09T21:28:08.499326Z",
     "start_time": "2022-07-09T21:28:08.428198Z"
    }
   },
   "outputs": [],
   "source": [
    "west.to_stata(DATA+'01_ivs/' + \"west_vdem10.dta\", version=118)"
   ]
  },
  {
   "cell_type": "code",
   "execution_count": 15,
   "metadata": {
    "ExecuteTime": {
     "end_time": "2022-07-11T22:28:17.955427Z",
     "start_time": "2022-07-11T22:28:17.951114Z"
    }
   },
   "outputs": [
    {
     "name": "stdout",
     "output_type": "stream",
     "text": [
      "1753    Albania\n",
      "1754    Albania\n",
      "1755    Albania\n",
      "Name: country_name, dtype: object\n"
     ]
    }
   ],
   "source": [
    "for i, country_df in west.groupby(\"country_name\"):\n",
    "    print(country_df[\"country_name\"])\n",
    "    break"
   ]
  },
  {
   "cell_type": "code",
   "execution_count": 16,
   "metadata": {
    "ExecuteTime": {
     "end_time": "2022-07-11T21:01:36.620499Z",
     "start_time": "2022-07-11T21:01:36.617144Z"
    }
   },
   "outputs": [
    {
     "data": {
      "text/plain": [
       "'{l}'"
      ]
     },
     "execution_count": 16,
     "metadata": {},
     "output_type": "execute_result"
    }
   ],
   "source": [
    "l = [1,2,3]\n",
    "\"{l}\""
   ]
  },
  {
   "cell_type": "code",
   "execution_count": null,
   "metadata": {},
   "outputs": [],
   "source": []
  }
 ],
 "metadata": {
  "kernelspec": {
   "display_name": "Python 3 (ipykernel)",
   "language": "python",
   "name": "python3"
  },
  "language_info": {
   "codemirror_mode": {
    "name": "ipython",
    "version": 3
   },
   "file_extension": ".py",
   "mimetype": "text/x-python",
   "name": "python",
   "nbconvert_exporter": "python",
   "pygments_lexer": "ipython3",
   "version": "3.10.4"
  },
  "toc": {
   "base_numbering": 1,
   "nav_menu": {},
   "number_sections": true,
   "sideBar": true,
   "skip_h1_title": false,
   "title_cell": "Table of Contents",
   "title_sidebar": "Contents",
   "toc_cell": true,
   "toc_position": {},
   "toc_section_display": true,
   "toc_window_display": false
  },
  "toc-autonumbering": false,
  "toc-showcode": false,
  "toc-showmarkdowntxt": false
 },
 "nbformat": 4,
 "nbformat_minor": 4
}
